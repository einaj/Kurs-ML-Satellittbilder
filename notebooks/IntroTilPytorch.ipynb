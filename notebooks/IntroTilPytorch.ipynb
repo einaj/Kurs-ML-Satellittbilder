{
 "cells": [
  {
   "attachments": {},
   "cell_type": "markdown",
   "metadata": {},
   "source": [
    "# Introduksjon til Pytorch\n",
    "\n",
    "Pytorch, eller torch er et open source framework for maskinlæring. Det er ett av de mest brukte rammeverkene, sammen med noen alternativer som TensorFlow eller Keras. Pytorch hovedfokus er brukervennlighet. Dette gjør det velegnet til testing og eksperimentering, fordi det er svært enklet å bygge, endre på og kjøre modeller. Det er også veldig \"pythonsk\"  i sin implementering, som gjøre det intuitivt å jobbe med og debugge for de som er vant til å bruke python.\n",
    "\n",
    "Denne notebooken er en veldig kort intro til de aller viktigste elementene i pytorch. Den er likevel på ingen måte dekkende for alt som ligger i rammerverket, så det kan være veldig nyttig å sjekke ut dokumentasjonen og flere av tutorialene som er tilgjengelig på https://pytorch.org/."
   ]
  },
  {
   "attachments": {},
   "cell_type": "markdown",
   "metadata": {},
   "source": [
    "### En intro til tensorer\n",
    "\n",
    "*Tensoren* er grunnpilaren i pytorch, og er datatypen som brukes til å holde alt av torch-data. I praksis ligner det mye på en numpy-array, i at det er en mangedimensjonal kontainer som kan holde på mange typer tall, men den har en del tilleggs-features.\n",
    "\n",
    "En tensor kan opprettes på mange måter:"
   ]
  },
  {
   "cell_type": "code",
   "execution_count": null,
   "metadata": {},
   "outputs": [],
   "source": [
    "import torch"
   ]
  },
  {
   "cell_type": "code",
   "execution_count": null,
   "metadata": {},
   "outputs": [],
   "source": [
    "# fra en liste med tall\n",
    "a = torch.tensor([1,2,3])\n",
    "\n",
    "a"
   ]
  },
  {
   "cell_type": "code",
   "execution_count": null,
   "metadata": {},
   "outputs": [],
   "source": [
    "# en tensor fylt med 0-er\n",
    "b = torch.zeros(4)\n",
    "\n",
    "b"
   ]
  },
  {
   "cell_type": "code",
   "execution_count": null,
   "metadata": {},
   "outputs": [],
   "source": [
    "# flere dimensjoner\n",
    "c = torch.zeros(3,4)\n",
    "\n",
    "c"
   ]
  },
  {
   "cell_type": "code",
   "execution_count": null,
   "metadata": {},
   "outputs": [],
   "source": [
    "# en tom tensor \n",
    "d = torch.empty(0)\n",
    "\n",
    "d"
   ]
  },
  {
   "cell_type": "code",
   "execution_count": null,
   "metadata": {},
   "outputs": [],
   "source": [
    "# fra en numpy array\n",
    "import numpy as np\n",
    "arr = np.array([3,4,5])\n",
    "\n",
    "f = torch.from_numpy(arr)\n",
    "f"
   ]
  },
  {
   "attachments": {},
   "cell_type": "markdown",
   "metadata": {},
   "source": [
    "### Integrasjon opp mot cuda\n",
    "\n",
    "Et vikitig element med tensorer er hvordan de lett kan flyttes over på GPU med cuda, noe som er helt sentalt for effektiv trening av maskinlæringsmodeller.\n",
    "\n",
    "Plasseringen til en tensor kan man finne under `device` og den kan enkelt flyttes med `to` metoden."
   ]
  },
  {
   "cell_type": "code",
   "execution_count": null,
   "metadata": {},
   "outputs": [],
   "source": [
    "torch.cuda.is_available()"
   ]
  },
  {
   "cell_type": "code",
   "execution_count": null,
   "metadata": {},
   "outputs": [],
   "source": [
    "f.device"
   ]
  },
  {
   "cell_type": "code",
   "execution_count": null,
   "metadata": {},
   "outputs": [],
   "source": [
    "f.to(\"cpu\") #cuda / cuda:n\n",
    "\n",
    "f.device"
   ]
  },
  {
   "attachments": {},
   "cell_type": "markdown",
   "metadata": {},
   "source": [
    "### Vanlige tensor-operasjoner\n",
    "\n",
    "På samme måte som numpy arrays er tensorer vektorisert, og takler å gjøre de fleste regneoperasjoner på tensoren som helhet, uten at man trenger å løkke gjennom enkelttall. Boolsker operasjoner og indeksering fungerer også på mer eller mindre samme måte."
   ]
  },
  {
   "cell_type": "code",
   "execution_count": null,
   "metadata": {},
   "outputs": [],
   "source": [
    "a = torch.tensor([2,4,-6])\n",
    "b = torch.tensor([1,-1,0])"
   ]
  },
  {
   "cell_type": "code",
   "execution_count": null,
   "metadata": {},
   "outputs": [],
   "source": [
    "a+b"
   ]
  },
  {
   "cell_type": "code",
   "execution_count": null,
   "metadata": {},
   "outputs": [],
   "source": [
    "a*b"
   ]
  },
  {
   "cell_type": "code",
   "execution_count": null,
   "metadata": {},
   "outputs": [],
   "source": [
    "b/a"
   ]
  },
  {
   "cell_type": "code",
   "execution_count": null,
   "metadata": {},
   "outputs": [],
   "source": [
    "a == 2"
   ]
  },
  {
   "cell_type": "code",
   "execution_count": null,
   "metadata": {},
   "outputs": [],
   "source": [
    "a < 0"
   ]
  },
  {
   "cell_type": "code",
   "execution_count": null,
   "metadata": {},
   "outputs": [],
   "source": [
    "a[0]"
   ]
  },
  {
   "cell_type": "code",
   "execution_count": null,
   "metadata": {},
   "outputs": [],
   "source": [
    "b[1:]"
   ]
  },
  {
   "cell_type": "code",
   "execution_count": null,
   "metadata": {},
   "outputs": [],
   "source": [
    "a[b>=0]"
   ]
  },
  {
   "attachments": {},
   "cell_type": "markdown",
   "metadata": {},
   "source": [
    "### Torchvision\n",
    "\n",
    "Torchvision er en pakke distribuert av torch, som inneholder mange populære datasett og modeller, i utrent eller pretrent format. Disse kan være veldig nyttige for å ha for eksperimentering, læring, eller som et startpunkt for videreutvikling og videretrening.\n",
    "\n",
    "Som et eksempel kan vi laste ned datasettet [Eurosat](https://pytorch.org/vision/main/generated/torchvision.datasets.EuroSAT.html)"
   ]
  },
  {
   "cell_type": "code",
   "execution_count": null,
   "metadata": {},
   "outputs": [],
   "source": [
    "# en url autoriseringsfix som kan være nødvendig\n",
    "import ssl\n",
    "ssl._create_default_https_context = ssl._create_unverified_context\n",
    "\n",
    "# last ned Eurosat til /data/\n",
    "import torchvision\n",
    "data = torchvision.datasets.EuroSAT(root='./data',download=True)"
   ]
  },
  {
   "attachments": {},
   "cell_type": "markdown",
   "metadata": {},
   "source": [
    "### Dataloaders\n",
    "\n",
    "Torch inneholder også funksjonalitet for enkelt å laste inn datasettet man skal trene på i riktige batch størrelser og med riktig preprosessering.\n",
    "\n",
    "Vi kan lage en dataloader for Eurosat."
   ]
  },
  {
   "cell_type": "code",
   "execution_count": null,
   "metadata": {},
   "outputs": [],
   "source": [
    "import torchvision.transforms as transforms\n",
    "\n",
    "# sett en transform for datasettet\n",
    "data.transform = transforms.Compose(\n",
    "    [transforms.ToTensor(),\n",
    "     transforms.Normalize((0.5, 0.5, 0.5), (0.5, 0.5, 0.5))])\n",
    "\n",
    "# split i trening og test\n",
    "from sklearn.model_selection import train_test_split\n",
    "train_set, test_set = train_test_split(data,test_size=0.2,stratify=data.targets)\n"
   ]
  },
  {
   "cell_type": "code",
   "execution_count": null,
   "metadata": {},
   "outputs": [],
   "source": [
    "# lag en loader med batch size 4\n",
    "trainloader = torch.utils.data.DataLoader(train_set, batch_size=4, shuffle=True, num_workers=0)\n"
   ]
  },
  {
   "cell_type": "code",
   "execution_count": null,
   "metadata": {},
   "outputs": [],
   "source": [
    "# test ved å vise frem en batch med bilder\n",
    "import matplotlib.pyplot as plt\n",
    "import numpy as np\n",
    "classes = ('Annual Crop', 'Forest', 'Herbaceous Vegetation', 'Highway',\n",
    "           'Industrial', 'Pasture', 'Permanent Crop', 'Residential', 'River', 'Sea/Lake')\n",
    "\n",
    "def imshow(img):\n",
    "    img = img / 2 + 0.5     # unnormalize\n",
    "    npimg = img.numpy()\n",
    "    plt.imshow(np.transpose(npimg, (1, 2, 0)))\n",
    "    plt.show()\n",
    "\n",
    "\n",
    "dataiter = iter(trainloader)"
   ]
  },
  {
   "cell_type": "code",
   "execution_count": null,
   "metadata": {},
   "outputs": [],
   "source": [
    "images, labels = next(dataiter)\n",
    "\n",
    "# show images\n",
    "imshow(torchvision.utils.make_grid(images))\n",
    "# print labels\n",
    "print(' '.join(f'{classes[labels[j]]:5s}' for j in range(4)))"
   ]
  },
  {
   "cell_type": "code",
   "execution_count": null,
   "metadata": {},
   "outputs": [],
   "source": [
    "images, labels = next(dataiter)\n",
    "\n",
    "# show images\n",
    "imshow(torchvision.utils.make_grid(images))\n",
    "# print labels\n",
    "print(' '.join(f'{classes[labels[j]]:5s}' for j in range(4)))"
   ]
  },
  {
   "attachments": {},
   "cell_type": "markdown",
   "metadata": {},
   "source": [
    "### Nevrale nettverk\n",
    "\n",
    "Torch er bygget for å enklet kunne sette sammen komponenter til et nevralt nettverk. Disse ligger stort sett i submodulen `torch.nn`."
   ]
  },
  {
   "cell_type": "code",
   "execution_count": null,
   "metadata": {},
   "outputs": [],
   "source": [
    "import torch.nn  as nn"
   ]
  },
  {
   "attachments": {},
   "cell_type": "markdown",
   "metadata": {},
   "source": [
    "Eksempelvis kan vi sette sammen to konvolusjonslag med kernel 3x3 og ReLU aktivering og ett lite lineært lag til et mini nett som tar inn bilder av strørrelse 32x32 piksler."
   ]
  },
  {
   "cell_type": "code",
   "execution_count": null,
   "metadata": {},
   "outputs": [],
   "source": [
    "class miniNet(nn.Module):\n",
    "    def __init__(self):\n",
    "        super().__init__()\n",
    "        self.conv_block = nn.Sequential(\n",
    "                        nn.Conv2d(3,8,3),\n",
    "                        nn.ReLU(),\n",
    "                        nn.Conv2d(8,8,3),\n",
    "                        nn.ReLU(),\n",
    "                        )\n",
    "        self.linear = nn.Linear(28*28*8,1)\n",
    "    \n",
    "    def forward(self,x):\n",
    "        x = self.conv_block(x)\n",
    "        x = x.flatten()\n",
    "        x = self.linear(x)\n",
    "        return x\n",
    "\n",
    "net = miniNet()\n",
    "\n"
   ]
  },
  {
   "cell_type": "code",
   "execution_count": null,
   "metadata": {},
   "outputs": [],
   "source": [
    "net"
   ]
  },
  {
   "cell_type": "code",
   "execution_count": null,
   "metadata": {},
   "outputs": [],
   "source": [
    "from torchinfo import summary\n",
    "\n",
    "summary(net,(1,3,32,32))"
   ]
  },
  {
   "attachments": {},
   "cell_type": "markdown",
   "metadata": {},
   "source": [
    "For å trene et nettverk i pytorch må man velge seg et optimeringsmetode og gjøre backpropagation i en treningsloop. Les mer om dette her: https://pytorch.org/tutorials/beginner/blitz/cifar10_tutorial.html"
   ]
  }
 ],
 "metadata": {
  "kernelspec": {
   "display_name": "SatML",
   "language": "python",
   "name": "python3"
  },
  "language_info": {
   "codemirror_mode": {
    "name": "ipython",
    "version": 3
   },
   "file_extension": ".py",
   "mimetype": "text/x-python",
   "name": "python",
   "nbconvert_exporter": "python",
   "pygments_lexer": "ipython3",
   "version": "3.9.16"
  },
  "orig_nbformat": 4
 },
 "nbformat": 4,
 "nbformat_minor": 2
}
