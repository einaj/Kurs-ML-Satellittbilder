{
 "cells": [
  {
   "cell_type": "code",
   "execution_count": null,
   "id": "d08b535e",
   "metadata": {},
   "outputs": [],
   "source": [
    "import os\n",
    "import torch\n",
    "import torch.nn\n",
    "import torchvision.models as models\n",
    "import torchvision.transforms as transforms\n",
    "import torch.nn.functional as F \n",
    "import torchvision.utils as utils\n",
    "import matplotlib.pyplot as plt\n",
    "import numpy as np\n",
    "import requests\n",
    "import PIL\n",
    "import io"
   ]
  },
  {
   "cell_type": "code",
   "execution_count": null,
   "id": "a097e0fc",
   "metadata": {},
   "outputs": [],
   "source": [
    "#Load image from Internet-URL\n",
    "url = \"https://www.dogbreedinfo.com/images32/GermanShepherdAdultDogLayInGrassOutside.jpg\"\n",
    "#url = \"https://www.aerotime.aero/images/us_navy_f-18_super_hornet.jpg\"\n",
    "#url = \"https://balkaninsight.com/wp-content/uploads/2018/08/640-novo-selo.jpg\"\n",
    "response = requests.get(url)\n",
    "image_bytes = io.BytesIO(response.content)\n",
    "img = PIL.Image.open(image_bytes)\n",
    "\n",
    "plt.imshow(img)"
   ]
  },
  {
   "cell_type": "code",
   "execution_count": null,
   "id": "064c86af",
   "metadata": {},
   "outputs": [],
   "source": [
    "\"\"\"\n",
    "data transforms, for pre-processing the input testing image before feeding into the net\n",
    "\"\"\"\n",
    "data_transforms = transforms.Compose([\n",
    "    transforms.Resize((224,224)),             # resize the input to 224x224\n",
    "    transforms.ToTensor(),              # put the input to tensor format\n",
    "    transforms.Normalize([0.485, 0.456, 0.406], [0.229, 0.224, 0.225])  # normalize the input\n",
    "    # the normalization is based on images from ImageNet\n",
    "])\n",
    "\n",
    "print(\"Original image shape: \" + str(img.size))\n",
    "# pre-process the input\n",
    "transformed_img = data_transforms(img)\n",
    "print(\"Transformed image shape: \" + str(transformed_img.shape))\n",
    "# form a batch with only one image\n",
    "batch_img = torch.unsqueeze(transformed_img, 0)\n",
    "print(\"Batch of images shape: \" + str(batch_img.shape))"
   ]
  },
  {
   "cell_type": "code",
   "execution_count": null,
   "id": "780e2801",
   "metadata": {},
   "outputs": [],
   "source": [
    "# load pre-trained detection model\n",
    "print(\"Set up pre-trained Yolov5 network\")\n",
    "#net = models.mobilenet_v3_large(weights=models.MobileNet_V3_Large_Weights)\n",
    "net = torch.hub.load('ultralytics/yolov5', 'yolov5s', pretrained=True)\n",
    "# Set network to \"evaluation\" mode, evalute image\n",
    "net.eval()\n",
    "output = net(img)\n",
    "\n",
    "output.print()\n",
    "output.show()\n",
    "output.pandas().xyxy[0]"
   ]
  },
  {
   "cell_type": "code",
   "execution_count": null,
   "id": "6562a4bd",
   "metadata": {},
   "outputs": [],
   "source": []
  }
 ],
 "metadata": {
  "kernelspec": {
   "display_name": "Python 3 (ipykernel)",
   "language": "python",
   "name": "python3"
  },
  "language_info": {
   "codemirror_mode": {
    "name": "ipython",
    "version": 3
   },
   "file_extension": ".py",
   "mimetype": "text/x-python",
   "name": "python",
   "nbconvert_exporter": "python",
   "pygments_lexer": "ipython3",
   "version": "3.9.16"
  }
 },
 "nbformat": 4,
 "nbformat_minor": 5
}
