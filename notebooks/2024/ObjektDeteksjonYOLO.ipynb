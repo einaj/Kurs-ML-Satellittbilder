{
 "cells": [
  {
   "cell_type": "markdown",
   "metadata": {},
   "source": [
    "# Objektdeteksjon med YOLO\n",
    "\n",
    "YOLO - *\"you only look once\"*, er en moderne objekt-detektor som er spesielt designet for å kunne kjøre raskt, med god presisjon. Den finnes i mange varianter men [YOLOv8](https://github.com/ultralytics/ultralytics) regnes som blant de beste. Den er enkelt å teste med få steg, og finnes med ferdig trente vekter.\n",
    "\n",
    "Denne notebooken legger til rette for å eksperimentere med å kjøre yolo på ulike bilder."
   ]
  },
  {
   "cell_type": "markdown",
   "metadata": {},
   "source": [
    "#### Velg en pretrent modell"
   ]
  },
  {
   "cell_type": "code",
   "execution_count": null,
   "metadata": {},
   "outputs": [],
   "source": [
    "from ultralytics import YOLO\n",
    "model = YOLO(\"yolov8n.pt\") # n for nano, s-small, m-medium, l-large, x-ekstra large"
   ]
  },
  {
   "cell_type": "markdown",
   "metadata": {},
   "source": [
    "For å gjøre instanssegmentering i stedet for ren objektedeteksjon, kan vi laste inn en `yolov8X-seg.pt` modell i stedet. Instanssegmentering gjør to ting. Den tilegner hver piksel en klasse, i tillegg til å skille mellom objekter."
   ]
  },
  {
   "cell_type": "code",
   "execution_count": null,
   "metadata": {},
   "outputs": [],
   "source": [
    "# model = YOLO('yolov8n-seg.pt') "
   ]
  },
  {
   "cell_type": "markdown",
   "metadata": {},
   "source": [
    "#### Lese inn et bilde fra en url"
   ]
  },
  {
   "cell_type": "code",
   "execution_count": null,
   "metadata": {},
   "outputs": [],
   "source": [
    "import requests\n",
    "from PIL import Image\n",
    "import io\n",
    "from pathlib import Path"
   ]
  },
  {
   "cell_type": "code",
   "execution_count": null,
   "metadata": {},
   "outputs": [],
   "source": [
    "url = \"https://premium.vgc.no/v2/images/1e6b9091-70db-494f-a0e9-2e24bc8fbd9d?fit=crop&format=auto&h=1267&w=1900&s=e8589032b3176f8c205864de33656ac39771ad3b\"\n",
    "req = requests.get(url)\n",
    "\n",
    "image = Image.open(io.BytesIO(req.content))\n"
   ]
  },
  {
   "cell_type": "code",
   "execution_count": null,
   "metadata": {},
   "outputs": [],
   "source": [
    "# display(image)"
   ]
  },
  {
   "cell_type": "markdown",
   "metadata": {},
   "source": [
    "#### Kjør modellen og vise frem resultatet"
   ]
  },
  {
   "cell_type": "code",
   "execution_count": null,
   "metadata": {},
   "outputs": [],
   "source": [
    "results = model(image)"
   ]
  },
  {
   "cell_type": "code",
   "execution_count": null,
   "metadata": {},
   "outputs": [],
   "source": [
    "results[0].show()"
   ]
  },
  {
   "cell_type": "markdown",
   "metadata": {},
   "source": [
    "#### Kjør modellen på en liste hel mappe med bilder"
   ]
  },
  {
   "cell_type": "markdown",
   "metadata": {},
   "source": [
    "Finn bilder på nett eller bilde du har fra før av. Samle dem i en mappe.\n",
    "\n",
    "Kjør cellene under for å kjøre modellen på alle bildene i mappa."
   ]
  },
  {
   "cell_type": "code",
   "execution_count": null,
   "metadata": {},
   "outputs": [],
   "source": [
    "# sett input og output folder\n",
    "folder = Path('path/til/mappe/med/bilder')\n",
    "images = list(folder.glob(\"*\"))\n",
    "\n",
    "save_folder = Path(\"path/til/mappe/for/resultater\")\n",
    "save_folder.mkdir(parents=True,exist_ok=True)"
   ]
  },
  {
   "cell_type": "code",
   "execution_count": null,
   "metadata": {},
   "outputs": [],
   "source": [
    "results = model([str(image) for image in images])"
   ]
  },
  {
   "cell_type": "code",
   "execution_count": null,
   "metadata": {},
   "outputs": [],
   "source": [
    "for i,result in enumerate(results):\n",
    "    result.save(str(save_folder)/Path(images[i].stem+\".png\"))"
   ]
  },
  {
   "cell_type": "markdown",
   "metadata": {},
   "source": [
    "### Oppgave\n",
    "\n",
    "Kjør modellen på ulike typer bilder. Sivile, miltære, nærbilder, langt unna, dyr, mennesker, kjøretøy osv.\n",
    "\n",
    "- Hva får modellen til bra, og hva funker ikke?\n",
    "- Hva er forskjellen på de ulike størrelsene til modellene liten, medium stor etc?"
   ]
  }
 ],
 "metadata": {
  "kernelspec": {
   "display_name": "GeoMLKS",
   "language": "python",
   "name": "python3"
  },
  "language_info": {
   "codemirror_mode": {
    "name": "ipython",
    "version": 3
   },
   "file_extension": ".py",
   "mimetype": "text/x-python",
   "name": "python",
   "nbconvert_exporter": "python",
   "pygments_lexer": "ipython3",
   "version": "3.10.13"
  }
 },
 "nbformat": 4,
 "nbformat_minor": 2
}
