{
 "cells": [
  {
   "cell_type": "code",
   "execution_count": null,
   "id": "e0d215e4",
   "metadata": {},
   "outputs": [],
   "source": [
    "#Oppgaver\n",
    "#1 - Hva er (ca) accuracy etter 0 epoker? Hvorfor?\n",
    "#2 - Hvor god accuracy klarer du å få med \"fully-connected\" og \"convolutional\" nettverk?\n",
    "### Du kan justere konstantene n_epochs, batch_size, learning_rate, model_dimension.\n",
    "###Det er ikke nødvendig å trene mer enn kanskje 5 minutter.\n",
    "#3 - Plot eksempler på feil-klassifikasjon for et godt ConvNet. Hva slags feil gjør nettverket?\n",
    "\n",
    "#Åpent spørsmål: hva er svakhetene eller begrensningene til et slikt nettverk?"
   ]
  },
  {
   "cell_type": "code",
   "execution_count": null,
   "id": "bc109b0b",
   "metadata": {},
   "outputs": [],
   "source": [
    "import torch\n",
    "import torchvision\n",
    "import torch.nn as nn\n",
    "import torch.nn.functional as F\n",
    "import torch.optim as optim\n",
    "\n",
    "import matplotlib.pyplot as plt"
   ]
  },
  {
   "cell_type": "code",
   "execution_count": null,
   "id": "11f0860d",
   "metadata": {},
   "outputs": [],
   "source": [
    "n_epochs = 3\n",
    "batch_size = 64\n",
    "learning_rate = 0.01\n",
    "momentum = 0.5\n",
    "model_dimension = 8\n",
    "\n",
    "torch.backends.cudnn.enabled = False"
   ]
  },
  {
   "cell_type": "code",
   "execution_count": null,
   "id": "b2f2fbf8",
   "metadata": {},
   "outputs": [],
   "source": [
    "train_loader = torch.utils.data.DataLoader(\n",
    "  torchvision.datasets.MNIST('/files/', train=True, download=True,\n",
    "                             transform=torchvision.transforms.Compose([\n",
    "                               torchvision.transforms.ToTensor(),\n",
    "                               torchvision.transforms.Normalize(\n",
    "                                 (0.1307,), (0.3081,))\n",
    "                             ])),\n",
    "  batch_size=batch_size, shuffle=True)\n",
    "\n",
    "test_loader = torch.utils.data.DataLoader(\n",
    "  torchvision.datasets.MNIST('/files/', train=False, download=True,\n",
    "                             transform=torchvision.transforms.Compose([\n",
    "                               torchvision.transforms.ToTensor(),\n",
    "                               torchvision.transforms.Normalize(\n",
    "                                 (0.1307,), (0.3081,))\n",
    "                             ])),\n",
    "  batch_size=batch_size, shuffle=True)"
   ]
  },
  {
   "cell_type": "code",
   "execution_count": null,
   "id": "5bb9b424",
   "metadata": {},
   "outputs": [],
   "source": [
    "class Net(nn.Module):\n",
    "    def __init__(self, m_dim):\n",
    "        super(Net, self).__init__()\n",
    "        self.fc1 = nn.Linear(28*28, m_dim)\n",
    "        self.fc2 = nn.Linear(m_dim, m_dim)\n",
    "        self.fc3 = nn.Linear(m_dim, 10)\n",
    "\n",
    "    def forward(self, x):\n",
    "        x = x.view(-1, 28*28)\n",
    "        x = F.relu(self.fc1(x))\n",
    "        x = F.relu(self.fc2(x))\n",
    "        x = self.fc3(x)\n",
    "        return F.log_softmax(x, dim=1)\n",
    "network = Net(model_dimension)\n",
    "optimizer = optim.SGD(network.parameters(), lr=learning_rate, momentum=momentum)"
   ]
  },
  {
   "cell_type": "code",
   "execution_count": null,
   "id": "efa09634",
   "metadata": {},
   "outputs": [],
   "source": [
    "def train():\n",
    "  network.train()\n",
    "  for batch_idx, (data, target) in enumerate(train_loader):\n",
    "    optimizer.zero_grad()\n",
    "    output = network(data)\n",
    "    loss = F.nll_loss(output, target)\n",
    "    loss.backward()\n",
    "    optimizer.step()\n"
   ]
  },
  {
   "cell_type": "code",
   "execution_count": null,
   "id": "94eaadd6",
   "metadata": {},
   "outputs": [],
   "source": [
    "def test(epoch):\n",
    "  network.eval()\n",
    "  test_loss = 0\n",
    "  correct = 0\n",
    "  with torch.no_grad():\n",
    "    for data, target in test_loader:\n",
    "      output = network(data)\n",
    "      test_loss += F.nll_loss(output, target, size_average=False).item()\n",
    "      pred = output.data.max(1, keepdim=True)[1]\n",
    "      correct += pred.eq(target.data.view_as(pred)).sum()\n",
    "  test_loss /= len(test_loader.dataset)\n",
    "  print('\\nTest set, {:.0f} epochs: Avg. loss: {:.4f}, Accuracy: {}/{} ({:.0f}%)\\n'.format(\n",
    "    epoch, test_loss, correct, len(test_loader.dataset),\n",
    "    100. * correct / len(test_loader.dataset)))"
   ]
  },
  {
   "cell_type": "code",
   "execution_count": null,
   "id": "225d1a9c",
   "metadata": {},
   "outputs": [],
   "source": [
    "def debug(n = 0):\n",
    "  network.eval()\n",
    "  with torch.no_grad():\n",
    "    for ix,(data, target) in enumerate(test_loader):\n",
    "      output = network(data)\n",
    "      pred = output.data.max(1, keepdim=False)[1]\n",
    "      if ix == n: break\n",
    "  fig = plt.figure()\n",
    "  for i in range(5*5):\n",
    "    plt.subplot(5,5,i+1)\n",
    "    plt.tight_layout()\n",
    "    plt.imshow(data[i][0], cmap='gray', interpolation='none')\n",
    "    plt.title(\"NN:{}, Data:{}\".format(pred[i], target[i]))\n",
    "    plt.xticks([])\n",
    "    plt.yticks([])\n",
    "  fig"
   ]
  },
  {
   "cell_type": "code",
   "execution_count": null,
   "id": "ef558ff1",
   "metadata": {},
   "outputs": [],
   "source": [
    "debug()"
   ]
  },
  {
   "cell_type": "code",
   "execution_count": null,
   "id": "606c6603",
   "metadata": {
    "scrolled": false
   },
   "outputs": [],
   "source": [
    "for i in range(n_epochs):\n",
    "    if i == 0: test(i)\n",
    "    train()\n",
    "    test(i+1)\n",
    "debug()"
   ]
  },
  {
   "cell_type": "code",
   "execution_count": null,
   "id": "5907cb48",
   "metadata": {},
   "outputs": [],
   "source": []
  },
  {
   "cell_type": "code",
   "execution_count": null,
   "id": "08874c44",
   "metadata": {},
   "outputs": [],
   "source": [
    "#ConvNet\n",
    "class Net(nn.Module):\n",
    "    def __init__(self, m_dim):\n",
    "        super(Net, self).__init__()\n",
    "        self.m_dim = m_dim\n",
    "        self.conv1 = nn.Conv2d(1, m_dim, kernel_size=5)\n",
    "        self.conv2 = nn.Conv2d(m_dim, m_dim*2, kernel_size=5)\n",
    "        self.conv2_drop = nn.Dropout2d()\n",
    "        self.fc1 = nn.Linear(4*4*2*m_dim, 4*4*2*m_dim)\n",
    "        self.fc2 = nn.Linear(4*4*2*m_dim, 10)\n",
    "\n",
    "    def forward(self, x):\n",
    "        x = F.relu(F.max_pool2d(self.conv1(x), 2))\n",
    "        x = F.relu(F.max_pool2d(self.conv2_drop(self.conv2(x)), 2))\n",
    "        x = x.view(-1, 4*4*2*self.m_dim)\n",
    "        x = F.relu(self.fc1(x))\n",
    "        x = F.dropout(x, training=self.training)\n",
    "        x = self.fc2(x)\n",
    "        return F.log_softmax(x, dim=1)\n",
    "\n",
    "network = Net(model_dimension)\n",
    "optimizer = optim.SGD(network.parameters(), lr=learning_rate, momentum=momentum)"
   ]
  },
  {
   "cell_type": "code",
   "execution_count": null,
   "id": "980a765c",
   "metadata": {},
   "outputs": [],
   "source": [
    "for i in range(n_epochs):\n",
    "    if i == 0: test(i)\n",
    "    train()\n",
    "    test(i+1)\n",
    "debug()"
   ]
  },
  {
   "cell_type": "code",
   "execution_count": null,
   "id": "04ebef39",
   "metadata": {},
   "outputs": [],
   "source": []
  }
 ],
 "metadata": {
  "kernelspec": {
   "display_name": "Python 3 (ipykernel)",
   "language": "python",
   "name": "python3"
  },
  "language_info": {
   "codemirror_mode": {
    "name": "ipython",
    "version": 3
   },
   "file_extension": ".py",
   "mimetype": "text/x-python",
   "name": "python",
   "nbconvert_exporter": "python",
   "pygments_lexer": "ipython3",
   "version": "3.9.16"
  }
 },
 "nbformat": 4,
 "nbformat_minor": 5
}
