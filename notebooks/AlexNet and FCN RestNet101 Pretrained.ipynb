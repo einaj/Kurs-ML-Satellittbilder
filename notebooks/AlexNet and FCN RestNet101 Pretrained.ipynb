{
 "cells": [
  {
   "cell_type": "code",
   "execution_count": null,
   "id": "3110ee00",
   "metadata": {},
   "outputs": [],
   "source": [
    "import os\n",
    "import torch\n",
    "import torch.nn\n",
    "import torchvision.models as models\n",
    "import torchvision.transforms as transforms\n",
    "import torch.nn.functional as F \n",
    "import torchvision.utils as utils\n",
    "import matplotlib.pyplot as plt\n",
    "import numpy as np\n",
    "import requests\n",
    "import PIL\n",
    "import io"
   ]
  },
  {
   "cell_type": "code",
   "execution_count": null,
   "id": "af1b5d74",
   "metadata": {},
   "outputs": [],
   "source": [
    "#Load image from Internet-URL\n",
    "url = \"https://www.dogbreedinfo.com/images32/GermanShepherdAdultDogLayInGrassOutside.jpg\"\n",
    "#url = \"https://www.aerotime.aero/images/us_navy_f-18_super_hornet.jpg\"\n",
    "#url = \"https://balkaninsight.com/wp-content/uploads/2018/08/640-novo-selo.jpg\"\n",
    "response = requests.get(url)\n",
    "image_bytes = io.BytesIO(response.content)\n",
    "img = PIL.Image.open(image_bytes)\n",
    "\n",
    "plt.imshow(img)"
   ]
  },
  {
   "cell_type": "code",
   "execution_count": null,
   "id": "df30140d",
   "metadata": {},
   "outputs": [],
   "source": [
    "\"\"\"\n",
    "data transforms, for pre-processing the input testing image before feeding into the net\n",
    "\"\"\"\n",
    "data_transforms = transforms.Compose([\n",
    "    transforms.Resize((224,224)),             # resize the input to 224x224\n",
    "    transforms.ToTensor(),              # put the input to tensor format\n",
    "    transforms.Normalize([0.485, 0.456, 0.406], [0.229, 0.224, 0.225])  # normalize the input\n",
    "    # the normalization is based on images from ImageNet\n",
    "])\n",
    "\n",
    "print(\"Original image shape: \" + str(img.size))\n",
    "# pre-process the input\n",
    "transformed_img = data_transforms(img)\n",
    "print(\"Transformed image shape: \" + str(transformed_img.shape))\n",
    "# form a batch with only one image\n",
    "batch_img = torch.unsqueeze(transformed_img, 0)\n",
    "print(\"Batch of images shape: \" + str(batch_img.shape))"
   ]
  },
  {
   "cell_type": "code",
   "execution_count": null,
   "id": "5da25646",
   "metadata": {},
   "outputs": [],
   "source": [
    "# load pre-trained AlexNet model\n",
    "print(\"Set up pre-trained AlexNet network\")\n",
    "net = models.alexnet(weights=models.AlexNet_Weights.IMAGENET1K_V1)\n",
    "# Set network to \"evaluation\" mode, evalute image\n",
    "net.eval()\n",
    "output = net(batch_img)\n",
    "\n",
    "#Map the class no. to the corresponding label\n",
    "with open('class_names_ImageNet.txt') as labels:\n",
    "    classes = [i.strip() for i in labels.readlines()]\n",
    "\n",
    "#Sort the probability vector in descending order\n",
    "sorted, indices = torch.sort(output, descending=True)\n",
    "percentage = F.softmax(output, dim=1)[0] * 100.0\n",
    "#Show top 5 classes (highest probability) for input\n",
    "results = [(classes[i], percentage[i].item()) for i in indices[0][:5]]\n",
    "print(\"Print top 5 classes for test image:\\n\")\n",
    "for i in range(5):\n",
    "    print('{}: {:.4f}%'.format(results[i][0], results[i][1]))\n"
   ]
  },
  {
   "cell_type": "code",
   "execution_count": null,
   "id": "50305110",
   "metadata": {},
   "outputs": [],
   "source": [
    "net = models.mobilenet_v3_large(weights=models.MobileNet_V3_Large_Weights.IMAGENET1K_V1)\n",
    "net.eval()\n",
    "output = net(batch_img)\n",
    "#Sort the probability vector in descending order\n",
    "sorted, indices = torch.sort(output, descending=True)\n",
    "percentage = F.softmax(output, dim=1)[0] * 100.0\n",
    "#Show top 5 classes (highest probability) for input\n",
    "results = [(classes[i], percentage[i].item()) for i in indices[0][:5]]\n",
    "print(\"Print top 5 classes for test image:\\n\")\n",
    "for i in range(5):\n",
    "    print('{}: {:.4f}%'.format(results[i][0], results[i][1]))\n"
   ]
  },
  {
   "cell_type": "code",
   "execution_count": null,
   "id": "4560d6c2",
   "metadata": {},
   "outputs": [],
   "source": []
  },
  {
   "cell_type": "code",
   "execution_count": null,
   "id": "a39cb614",
   "metadata": {},
   "outputs": [],
   "source": [
    "# load pre-trained segmentation model\n",
    "print(\"Set up pre-trained FCN_ResNet101 network\")\n",
    "net = models.segmentation.fcn_resnet101(weights=models.segmentation.FCN_ResNet101_Weights.COCO_WITH_VOC_LABELS_V1)\n",
    "net = net.eval()\n",
    "\n",
    "#Per-class prediction for each pixel position, 21 \"color\"-channels\n",
    "output = net(batch_img)['out']\n",
    "\n",
    "output_argmax = torch.argmax(output.squeeze(), dim=0).detach().cpu().numpy()"
   ]
  },
  {
   "cell_type": "code",
   "execution_count": null,
   "id": "d0a4f240",
   "metadata": {},
   "outputs": [],
   "source": [
    "#Helper function for converting class-maps to rgb-representation\n",
    "def decode_segmap(image, nc=21):\n",
    "    my_label_colors = np.array([(0, 0, 0),  # 0=background\n",
    "        # 1=aeroplane, 2=bicycle, 3=bird, 4=boat, 5=bottle\n",
    "        (128, 0, 0), (0, 128, 0), (128, 128, 0), (0, 0, 128), (128, 0, 128),\n",
    "        # 6=bus, 7=car, 8=cat, 9=chair, 10=cow\n",
    "        (0, 128, 128), (128, 128, 128), (64, 0, 0), (192, 0, 0), (64, 128, 0),\n",
    "        # 11=dining table, 12=dog, 13=horse, 14=motorbike, 15=person\n",
    "        (192, 128, 0), (64, 0, 128), (192, 0, 128), (64, 128, 128), (192, 128, 128),\n",
    "        # 16=potted plant, 17=sheep, 18=sofa, 19=train, 20=tv/monitor\n",
    "        (0, 64, 0), (128, 64, 0), (0, 192, 0), (128, 192, 0), (0, 64, 128)\n",
    "    ])\n",
    "    r = np.zeros_like(image).astype(np.uint8)\n",
    "    g = np.zeros_like(image).astype(np.uint8)\n",
    "    b = np.zeros_like(image).astype(np.uint8)\n",
    "    for l in range(0, nc):\n",
    "        idx = image == l\n",
    "        r[idx] = my_label_colors[l, 0]\n",
    "        g[idx] = my_label_colors[l, 1]\n",
    "        b[idx] = my_label_colors[l, 2]\n",
    "    rgb = np.stack([r, g, b], axis=2)\n",
    "    return rgb\n",
    "\n",
    "label_dict = {0:'background', 1:'aeroplane', 2:'bicycle', 3:'bird', 4:'boat', 5:'bottle',\n",
    "              6:'bus', 7:'car', 8:'cat', 9:'chair', 10:'cow',\n",
    "              11:'dining table', 12:'dog', 13:'horse', 14:'motorbike', 15:'person',\n",
    "              16:'potted plant', 17:'sheep', 18:'sofa', 19:'train', 20:'tv/monitor',\n",
    "             }"
   ]
  },
  {
   "cell_type": "code",
   "execution_count": null,
   "id": "bbe0ca97",
   "metadata": {},
   "outputs": [],
   "source": [
    "output_rgb = decode_segmap(output_argmax)\n",
    "print([label_dict[i] for i in np.unique(output_argmax)])\n",
    "plt.imshow(output_rgb)"
   ]
  },
  {
   "cell_type": "code",
   "execution_count": null,
   "id": "a679a2a2",
   "metadata": {},
   "outputs": [],
   "source": []
  }
 ],
 "metadata": {
  "kernelspec": {
   "display_name": "Python 3 (ipykernel)",
   "language": "python",
   "name": "python3"
  },
  "language_info": {
   "codemirror_mode": {
    "name": "ipython",
    "version": 3
   },
   "file_extension": ".py",
   "mimetype": "text/x-python",
   "name": "python",
   "nbconvert_exporter": "python",
   "pygments_lexer": "ipython3",
   "version": "3.9.16"
  }
 },
 "nbformat": 4,
 "nbformat_minor": 5
}
