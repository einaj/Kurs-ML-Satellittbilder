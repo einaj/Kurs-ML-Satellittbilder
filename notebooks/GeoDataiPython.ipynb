{
 "cells": [
  {
   "cell_type": "markdown",
   "metadata": {},
   "source": [
    "# Håndtering av georeferert data i Python\n",
    "\n",
    "Det finnes flere open source biblioteker som kan brukes til å håndtere GeoTiffer, shapefiler og annen geodata i python. De er i hovedsak bygget på [GDAL](https://gdal.org/)\n",
    "\n",
    "*rasterio* er et eksempel på et populært høynivå bibliotek som pakker GDAL funksjonalitet inn i et \"pythonsk\" format."
   ]
  },
  {
   "cell_type": "markdown",
   "metadata": {},
   "source": [
    "### Lagring og bruk av geotransform\n",
    "\n",
    "I fila `geoutils.py` har vi implementert en enkel klasse `GeoImage` som bruker rasterio til å lese GeoTiffer og lagrer både bildedataen og georefereringen til et bilde."
   ]
  },
  {
   "cell_type": "code",
   "execution_count": null,
   "metadata": {},
   "outputs": [],
   "source": [
    "# legg til src i path\n",
    "from pathlib import Path\n",
    "import sys\n",
    "\n",
    "src_path = Path(\".\").absolute().parent / Path('src')\n",
    "sys.path.append(src_path.__str__())\n",
    "\n",
    "from geoutils import GeoImage\n",
    "\n"
   ]
  },
  {
   "cell_type": "code",
   "execution_count": null,
   "metadata": {},
   "outputs": [],
   "source": [
    "# test på et satelittbile over Oslo\n",
    "\n",
    "fil = \"data/Oslo_GE_basemap.tif\"\n",
    "image = GeoImage(fil)"
   ]
  },
  {
   "cell_type": "code",
   "execution_count": null,
   "metadata": {},
   "outputs": [],
   "source": [
    "# et objekt i klassen har følgende variabler\n",
    "\n",
    "image.__dict__.keys()"
   ]
  },
  {
   "cell_type": "code",
   "execution_count": null,
   "metadata": {},
   "outputs": [],
   "source": [
    "# inspiser de ulike variablene\n",
    "# ...."
   ]
  },
  {
   "cell_type": "code",
   "execution_count": null,
   "metadata": {},
   "outputs": [],
   "source": [
    "# vis frem bildet\n",
    "image.preview()"
   ]
  },
  {
   "cell_type": "markdown",
   "metadata": {},
   "source": [
    "`geoutils` inneholder også en funksjon `CopyGeoTransform` som gjør at man kan ta georeferering til et GeoImage, og lage et nytt GeoImage med samme geotransform og metdata, men med ny bildedata. Dette kan være nyttig dersom man f.eks har lagt til bounding boxer eller segmentering på et bilde ved hjelp av maskinlæring i python, og ønsker å lagre de som en GeoTiff som kan åpnes i et GIS program.\n",
    "\n",
    "*NB!* Den nye bildedataen må være av samme størrelse og oppløsning som den opprinnelige for at georefereingen skal bli riktig."
   ]
  },
  {
   "cell_type": "code",
   "execution_count": null,
   "metadata": {},
   "outputs": [],
   "source": [
    "# som eksempel kan vi kopiere dataen fra bildet over og manipulere den.\n",
    "new_image_data = image.data.copy()\n",
    "\n",
    "# endre på fargene i en firkant\n",
    "new_image_data[0,200:500,200:400] = 200"
   ]
  },
  {
   "cell_type": "code",
   "execution_count": null,
   "metadata": {},
   "outputs": [],
   "source": [
    "from geoutils import CopyGeoTransform\n",
    "\n",
    "# lag et nytt GeoImage med den nye dataen, og bestem hva GeoTiffen skal hete\n",
    "edited_image = CopyGeoTransform(image,new_image_data,\"data/redigert_Oslo_basemap.tif\")"
   ]
  },
  {
   "cell_type": "code",
   "execution_count": null,
   "metadata": {},
   "outputs": [],
   "source": [
    "# se på det nye bildet\n",
    "\n",
    "edited_image.preview()"
   ]
  },
  {
   "cell_type": "markdown",
   "metadata": {},
   "source": [
    "Det bør nå ligge en nye Geotiff av det redigerte bildet i /data/ "
   ]
  },
  {
   "cell_type": "markdown",
   "metadata": {},
   "source": [
    "### Maskering og ROI\n",
    "\n",
    "I `GeoImage` klassen har vi også inkluder funksjonalitet for å velge ut et interesseområde med en maske. Dette kan gjøres ved hjelp av polygoner definert i en Shapefile eller GeoJson.\n",
    "\n",
    "Funksjonen `readPolygon` leser denne typen filer, og konverterer det til en liste med dictionaries det polygonene i fila er lagret på i Python geo interface protocol."
   ]
  },
  {
   "cell_type": "code",
   "execution_count": null,
   "metadata": {},
   "outputs": [],
   "source": [
    "from geoutils import readPolygon\n",
    "\n",
    "maske = readPolygon(\"data/OsloRing3/OsloRing3.shp\")\n",
    "\n",
    "print(maske)"
   ]
  },
  {
   "cell_type": "markdown",
   "metadata": {},
   "source": [
    "Vi kan sette interesseområde-masken på bildet vårt. Og velge nodata-verdi, med metoden `setROI`."
   ]
  },
  {
   "cell_type": "code",
   "execution_count": null,
   "metadata": {},
   "outputs": [],
   "source": [
    "image.setROI(maske)"
   ]
  },
  {
   "cell_type": "code",
   "execution_count": null,
   "metadata": {},
   "outputs": [],
   "source": [
    "# se på preview på nytt\n",
    "\n",
    "image.preview()"
   ]
  },
  {
   "cell_type": "markdown",
   "metadata": {},
   "source": [
    "Så lenge `image.ROI` er definert, vil klassen som default peke til `ROI[\"data\"]` og `ROI[\"transform\"]`, men det orginale bildet er fortsatt tilgengelig under `image.original[\"data\"]` of `image.original[\"transform\"]`.\n",
    "\n",
    "For å fjærne interesseområde setter man ganske enkelt `image.ROI = None`.\n",
    "\n",
    "Dersom man har gjort endringer i dataen, transformen eller ROI-en til et `GeoImage` og ønsker å lagre den nye versjonen, kan man kalle `save` funksjonen."
   ]
  },
  {
   "cell_type": "code",
   "execution_count": null,
   "metadata": {},
   "outputs": [],
   "source": [
    "image.save(\"data/Oslo_GE_Ring3.tif\")"
   ]
  }
 ],
 "metadata": {
  "kernelspec": {
   "display_name": "GeoML",
   "language": "python",
   "name": "python3"
  },
  "language_info": {
   "codemirror_mode": {
    "name": "ipython",
    "version": 3
   },
   "file_extension": ".py",
   "mimetype": "text/x-python",
   "name": "python",
   "nbconvert_exporter": "python",
   "pygments_lexer": "ipython3",
   "version": "3.9.16"
  }
 },
 "nbformat": 4,
 "nbformat_minor": 2
}
